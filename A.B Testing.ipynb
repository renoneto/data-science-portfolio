{
 "cells": [
  {
   "cell_type": "markdown",
   "metadata": {},
   "source": [
    "# A/B Testing Simulation"
   ]
  },
  {
   "cell_type": "markdown",
   "metadata": {},
   "source": [
    "On this project, I'm trying to understand how changes on a website affected the number of clicks in different elements of the page. \n",
    "\n",
    "Through A/B Testing I'll be able to say which website will attract more clicks."
   ]
  },
  {
   "cell_type": "code",
   "execution_count": 1,
   "metadata": {
    "collapsed": true
   },
   "outputs": [],
   "source": [
    "#Import libraries!\n",
    "import pandas as pd\n",
    "import numpy as np\n",
    "import random\n",
    "import matplotlib.pyplot as plt\n",
    "from statsmodels.discrete.discrete_model import Logit\n",
    "from sklearn.linear_model import LinearRegression\n",
    "from regressors import stats\n",
    "\n",
    "plt.style.use('ggplot')\n",
    "%matplotlib inline\n",
    "\n",
    "random.seed(100)"
   ]
  },
  {
   "cell_type": "markdown",
   "metadata": {},
   "source": [
    "We have 5 versions of the website: A, B, C, D and E. In each file I have the total number of clicks on each element of the website. In addition, we also have a file with total visits by version of the website. \n",
    "\n",
    "Initially, we'll be analyzing how each one performed with the changes that were implemented.\n",
    "\n",
    "In order to do that, all files will be imported and merged into one dataframe."
   ]
  },
  {
   "cell_type": "code",
   "execution_count": 2,
   "metadata": {},
   "outputs": [
    {
     "data": {
      "text/html": [
       "<div>\n",
       "<style scoped>\n",
       "    .dataframe tbody tr th:only-of-type {\n",
       "        vertical-align: middle;\n",
       "    }\n",
       "\n",
       "    .dataframe tbody tr th {\n",
       "        vertical-align: top;\n",
       "    }\n",
       "\n",
       "    .dataframe thead th {\n",
       "        text-align: right;\n",
       "    }\n",
       "</style>\n",
       "<table border=\"1\" class=\"dataframe\">\n",
       "  <thead>\n",
       "    <tr style=\"text-align: right;\">\n",
       "      <th></th>\n",
       "      <th>Element ID</th>\n",
       "      <th>Tag name</th>\n",
       "      <th>Name</th>\n",
       "      <th>No. clicks</th>\n",
       "      <th>Visible?</th>\n",
       "      <th>sample_ID</th>\n",
       "      <th>visits</th>\n",
       "    </tr>\n",
       "  </thead>\n",
       "  <tbody>\n",
       "    <tr>\n",
       "      <th>0</th>\n",
       "      <td>128</td>\n",
       "      <td>area</td>\n",
       "      <td>Montana State University - Home</td>\n",
       "      <td>1291</td>\n",
       "      <td>False</td>\n",
       "      <td>A</td>\n",
       "      <td>10283</td>\n",
       "    </tr>\n",
       "    <tr>\n",
       "      <th>1</th>\n",
       "      <td>69</td>\n",
       "      <td>a</td>\n",
       "      <td>Buy</td>\n",
       "      <td>842</td>\n",
       "      <td>True</td>\n",
       "      <td>A</td>\n",
       "      <td>10283</td>\n",
       "    </tr>\n",
       "    <tr>\n",
       "      <th>2</th>\n",
       "      <td>61</td>\n",
       "      <td>input</td>\n",
       "      <td>Read more</td>\n",
       "      <td>508</td>\n",
       "      <td>True</td>\n",
       "      <td>A</td>\n",
       "      <td>10283</td>\n",
       "    </tr>\n",
       "    <tr>\n",
       "      <th>3</th>\n",
       "      <td>67</td>\n",
       "      <td>a</td>\n",
       "      <td>lib.montana.edu/find/</td>\n",
       "      <td>166</td>\n",
       "      <td>True</td>\n",
       "      <td>A</td>\n",
       "      <td>10283</td>\n",
       "    </tr>\n",
       "    <tr>\n",
       "      <th>4</th>\n",
       "      <td>78</td>\n",
       "      <td>a</td>\n",
       "      <td>REQUEST</td>\n",
       "      <td>151</td>\n",
       "      <td>True</td>\n",
       "      <td>A</td>\n",
       "      <td>10283</td>\n",
       "    </tr>\n",
       "  </tbody>\n",
       "</table>\n",
       "</div>"
      ],
      "text/plain": [
       "   Element ID Tag name                             Name  No. clicks  Visible?  \\\n",
       "0         128     area  Montana State University - Home        1291     False   \n",
       "1          69        a                              Buy         842      True   \n",
       "2          61    input                        Read more         508      True   \n",
       "3          67        a            lib.montana.edu/find/         166      True   \n",
       "4          78        a                          REQUEST         151      True   \n",
       "\n",
       "  sample_ID  visits  \n",
       "0         A   10283  \n",
       "1         A   10283  \n",
       "2         A   10283  \n",
       "3         A   10283  \n",
       "4         A   10283  "
      ]
     },
     "execution_count": 2,
     "metadata": {},
     "output_type": "execute_result"
    }
   ],
   "source": [
    "#Filepaths\n",
    "a_file = './Interact - A.csv'\n",
    "b_file = './Connect - B.csv'\n",
    "c_file = './Learn - C.csv'\n",
    "d_file = './Help - D.csv'\n",
    "e_file = './Services - E.csv'\n",
    "\n",
    "#Creating dataframes\n",
    "df_A = pd.read_csv(a_file)\n",
    "df_B = pd.read_csv(b_file)\n",
    "df_C = pd.read_csv(c_file)\n",
    "df_D = pd.read_csv(d_file)\n",
    "df_E = pd.read_csv(e_file)\n",
    "\n",
    "#Dropping last column, we don't actually need it.\n",
    "df_A.drop(df_A.columns[-1], axis=1, inplace=True)\n",
    "df_B.drop(df_B.columns[-1], axis=1, inplace=True)\n",
    "df_C.drop(df_C.columns[-1], axis=1, inplace=True)\n",
    "df_D.drop(df_D.columns[-1], axis=1, inplace=True)\n",
    "df_E.drop(df_E.columns[-1], axis=1, inplace=True)\n",
    "\n",
    "#Create identifier to differentiate versions.\n",
    "df_A['sample_ID'] = 'A'\n",
    "df_B['sample_ID'] = 'B'\n",
    "df_C['sample_ID'] = 'C'\n",
    "df_D['sample_ID'] = 'D'\n",
    "df_E['sample_ID'] = 'E'\n",
    "\n",
    "#Total visits dataframe - Manually created, extracted from a PDF report.\n",
    "total_visits = [['A', 10283], ['B', 2742], ['C', 2747],['D',3180],['E',2064]]\n",
    "visits = pd.DataFrame(total_visits,columns=['sample_ID','visits'])\n",
    "\n",
    "#Create master file - Merge all dataframes.\n",
    "df_list = [df_A,df_B,df_C,df_D,df_E]\n",
    "df_master = pd.concat(df_list)\n",
    "df_master = pd.merge(df_master,visits,on='sample_ID',how='left')\n",
    "\n",
    "#Let's take a look\n",
    "df_master.head()"
   ]
  },
  {
   "cell_type": "markdown",
   "metadata": {},
   "source": [
    "Okay, before we dive into it, we need to review what we have, I want to make sure that there's no null/odd values, if that's the case, then we'll have to make the appropriate updates."
   ]
  },
  {
   "cell_type": "code",
   "execution_count": 3,
   "metadata": {},
   "outputs": [
    {
     "name": "stdout",
     "output_type": "stream",
     "text": [
      "<class 'pandas.core.frame.DataFrame'>\n",
      "Int64Index: 299 entries, 0 to 298\n",
      "Data columns (total 7 columns):\n",
      "Element ID    299 non-null int64\n",
      "Tag name      299 non-null object\n",
      "Name          299 non-null object\n",
      "No. clicks    299 non-null int64\n",
      "Visible?      299 non-null bool\n",
      "sample_ID     299 non-null object\n",
      "visits        299 non-null int64\n",
      "dtypes: bool(1), int64(3), object(3)\n",
      "memory usage: 16.6+ KB\n"
     ]
    },
    {
     "data": {
      "text/plain": [
       "Element ID     int64\n",
       "Tag name      object\n",
       "Name          object\n",
       "No. clicks     int64\n",
       "Visible?        bool\n",
       "sample_ID     object\n",
       "visits         int64\n",
       "dtype: object"
      ]
     },
     "execution_count": 3,
     "metadata": {},
     "output_type": "execute_result"
    }
   ],
   "source": [
    "#EDA\n",
    "df_master.info() #No null values!!\n",
    "df_master.describe()\n",
    "df_master.dtypes"
   ]
  },
  {
   "cell_type": "markdown",
   "metadata": {},
   "source": [
    "Everything looks good to me, we're good to start analyzing what we have here."
   ]
  },
  {
   "cell_type": "markdown",
   "metadata": {},
   "source": [
    "Unfortunately, we don't have access to the data by user, the dataframe is indexed by element with total number of clicks.\n",
    "\n",
    "Therefore, we'll have to create some assumptions here, first the Conversion Rate will be calculated by doing the following:\n",
    "   - Conversion Rate = Total Number of Clicks for the element on the page / Total Number of page visits \n",
    "   \n",
    "Another assumption to be made is that users only clicked once on each element, so there's no double-counting, every click in unique. This might not be the best way of analyzing conversion, but since we don't have the necessary data, we'll work with what we have. Besides, most of the time we're analyzing something we are making assumptions, so let's keep going!"
   ]
  },
  {
   "cell_type": "code",
   "execution_count": 4,
   "metadata": {},
   "outputs": [
    {
     "data": {
      "text/html": [
       "<div>\n",
       "<style scoped>\n",
       "    .dataframe tbody tr th:only-of-type {\n",
       "        vertical-align: middle;\n",
       "    }\n",
       "\n",
       "    .dataframe tbody tr th {\n",
       "        vertical-align: top;\n",
       "    }\n",
       "\n",
       "    .dataframe thead th {\n",
       "        text-align: right;\n",
       "    }\n",
       "</style>\n",
       "<table border=\"1\" class=\"dataframe\">\n",
       "  <thead>\n",
       "    <tr style=\"text-align: right;\">\n",
       "      <th></th>\n",
       "      <th>Element ID</th>\n",
       "      <th>Tag name</th>\n",
       "      <th>Name</th>\n",
       "      <th>No. clicks</th>\n",
       "      <th>Visible?</th>\n",
       "      <th>sample_ID</th>\n",
       "      <th>visits</th>\n",
       "      <th>conversion_rate</th>\n",
       "    </tr>\n",
       "  </thead>\n",
       "  <tbody>\n",
       "    <tr>\n",
       "      <th>0</th>\n",
       "      <td>128</td>\n",
       "      <td>area</td>\n",
       "      <td>Montana State University - Home</td>\n",
       "      <td>1291</td>\n",
       "      <td>False</td>\n",
       "      <td>A</td>\n",
       "      <td>10283</td>\n",
       "      <td>12.554702</td>\n",
       "    </tr>\n",
       "    <tr>\n",
       "      <th>1</th>\n",
       "      <td>69</td>\n",
       "      <td>a</td>\n",
       "      <td>Buy</td>\n",
       "      <td>842</td>\n",
       "      <td>True</td>\n",
       "      <td>A</td>\n",
       "      <td>10283</td>\n",
       "      <td>8.188272</td>\n",
       "    </tr>\n",
       "    <tr>\n",
       "      <th>2</th>\n",
       "      <td>61</td>\n",
       "      <td>input</td>\n",
       "      <td>Read more</td>\n",
       "      <td>508</td>\n",
       "      <td>True</td>\n",
       "      <td>A</td>\n",
       "      <td>10283</td>\n",
       "      <td>4.940193</td>\n",
       "    </tr>\n",
       "    <tr>\n",
       "      <th>3</th>\n",
       "      <td>67</td>\n",
       "      <td>a</td>\n",
       "      <td>lib.montana.edu/find/</td>\n",
       "      <td>166</td>\n",
       "      <td>True</td>\n",
       "      <td>A</td>\n",
       "      <td>10283</td>\n",
       "      <td>1.614315</td>\n",
       "    </tr>\n",
       "    <tr>\n",
       "      <th>4</th>\n",
       "      <td>78</td>\n",
       "      <td>a</td>\n",
       "      <td>REQUEST</td>\n",
       "      <td>151</td>\n",
       "      <td>True</td>\n",
       "      <td>A</td>\n",
       "      <td>10283</td>\n",
       "      <td>1.468443</td>\n",
       "    </tr>\n",
       "    <tr>\n",
       "      <th>5</th>\n",
       "      <td>98</td>\n",
       "      <td>a</td>\n",
       "      <td>Explore</td>\n",
       "      <td>102</td>\n",
       "      <td>True</td>\n",
       "      <td>A</td>\n",
       "      <td>10283</td>\n",
       "      <td>0.991928</td>\n",
       "    </tr>\n",
       "    <tr>\n",
       "      <th>6</th>\n",
       "      <td>62</td>\n",
       "      <td>button</td>\n",
       "      <td>Search</td>\n",
       "      <td>101</td>\n",
       "      <td>True</td>\n",
       "      <td>A</td>\n",
       "      <td>10283</td>\n",
       "      <td>0.982204</td>\n",
       "    </tr>\n",
       "    <tr>\n",
       "      <th>7</th>\n",
       "      <td>118</td>\n",
       "      <td>a</td>\n",
       "      <td>MSU</td>\n",
       "      <td>55</td>\n",
       "      <td>True</td>\n",
       "      <td>A</td>\n",
       "      <td>10283</td>\n",
       "      <td>0.534863</td>\n",
       "    </tr>\n",
       "    <tr>\n",
       "      <th>8</th>\n",
       "      <td>50</td>\n",
       "      <td>span</td>\n",
       "      <td>nav-item-dot</td>\n",
       "      <td>46</td>\n",
       "      <td>True</td>\n",
       "      <td>A</td>\n",
       "      <td>10283</td>\n",
       "      <td>0.447340</td>\n",
       "    </tr>\n",
       "    <tr>\n",
       "      <th>9</th>\n",
       "      <td>87</td>\n",
       "      <td>a</td>\n",
       "      <td>INTERACT</td>\n",
       "      <td>42</td>\n",
       "      <td>True</td>\n",
       "      <td>A</td>\n",
       "      <td>10283</td>\n",
       "      <td>0.408441</td>\n",
       "    </tr>\n",
       "  </tbody>\n",
       "</table>\n",
       "</div>"
      ],
      "text/plain": [
       "   Element ID Tag name                             Name  No. clicks  Visible?  \\\n",
       "0         128     area  Montana State University - Home        1291     False   \n",
       "1          69        a                              Buy         842      True   \n",
       "2          61    input                        Read more         508      True   \n",
       "3          67        a            lib.montana.edu/find/         166      True   \n",
       "4          78        a                          REQUEST         151      True   \n",
       "5          98        a                          Explore         102      True   \n",
       "6          62   button                           Search         101      True   \n",
       "7         118        a                              MSU          55      True   \n",
       "8          50     span                     nav-item-dot          46      True   \n",
       "9          87        a                         INTERACT          42      True   \n",
       "\n",
       "  sample_ID  visits  conversion_rate  \n",
       "0         A   10283        12.554702  \n",
       "1         A   10283         8.188272  \n",
       "2         A   10283         4.940193  \n",
       "3         A   10283         1.614315  \n",
       "4         A   10283         1.468443  \n",
       "5         A   10283         0.991928  \n",
       "6         A   10283         0.982204  \n",
       "7         A   10283         0.534863  \n",
       "8         A   10283         0.447340  \n",
       "9         A   10283         0.408441  "
      ]
     },
     "execution_count": 4,
     "metadata": {},
     "output_type": "execute_result"
    }
   ],
   "source": [
    "#Okay, create conversion rate.\n",
    "df_master['conversion_rate'] = (df_master['No. clicks']/df_master['visits'])*100\n",
    "df_master.head(10)"
   ]
  },
  {
   "cell_type": "markdown",
   "metadata": {},
   "source": [
    "As soon as I started playing with the data, I noticed that 'Element ID' is not accurate across different pages, the ID is unique for the page, but 'Name' and 'Tag Name' can be completely different. \n",
    "\n",
    "However, 'Name' seems to be more consistent, therefore, for the analysis below I'm going to use the 'Name' column to compare different versions of the website.\n",
    "\n",
    "Since we have a lot of elements, I thought it would be a good idea to compare only the top 3 clicked Names that all websites share in common."
   ]
  },
  {
   "cell_type": "code",
   "execution_count": 5,
   "metadata": {},
   "outputs": [
    {
     "data": {
      "text/html": [
       "<div>\n",
       "<style scoped>\n",
       "    .dataframe tbody tr th:only-of-type {\n",
       "        vertical-align: middle;\n",
       "    }\n",
       "\n",
       "    .dataframe tbody tr th {\n",
       "        vertical-align: top;\n",
       "    }\n",
       "\n",
       "    .dataframe thead th {\n",
       "        text-align: right;\n",
       "    }\n",
       "</style>\n",
       "<table border=\"1\" class=\"dataframe\">\n",
       "  <thead>\n",
       "    <tr style=\"text-align: right;\">\n",
       "      <th></th>\n",
       "      <th>Element ID</th>\n",
       "      <th>Tag name</th>\n",
       "      <th>Name</th>\n",
       "      <th>No. clicks</th>\n",
       "      <th>Visible?</th>\n",
       "      <th>sample_ID</th>\n",
       "      <th>visits</th>\n",
       "      <th>conversion_rate</th>\n",
       "      <th>Total No. Clicks</th>\n",
       "      <th>count</th>\n",
       "    </tr>\n",
       "  </thead>\n",
       "  <tbody>\n",
       "    <tr>\n",
       "      <th>0</th>\n",
       "      <td>69</td>\n",
       "      <td>a</td>\n",
       "      <td>Buy</td>\n",
       "      <td>842</td>\n",
       "      <td>True</td>\n",
       "      <td>A</td>\n",
       "      <td>10283</td>\n",
       "      <td>8.188272</td>\n",
       "      <td>2959</td>\n",
       "      <td>5</td>\n",
       "    </tr>\n",
       "    <tr>\n",
       "      <th>2</th>\n",
       "      <td>69</td>\n",
       "      <td>a</td>\n",
       "      <td>Buy</td>\n",
       "      <td>587</td>\n",
       "      <td>True</td>\n",
       "      <td>C</td>\n",
       "      <td>2747</td>\n",
       "      <td>21.368766</td>\n",
       "      <td>2959</td>\n",
       "      <td>5</td>\n",
       "    </tr>\n",
       "    <tr>\n",
       "      <th>3</th>\n",
       "      <td>74</td>\n",
       "      <td>a</td>\n",
       "      <td>Buy</td>\n",
       "      <td>631</td>\n",
       "      <td>True</td>\n",
       "      <td>D</td>\n",
       "      <td>3180</td>\n",
       "      <td>19.842767</td>\n",
       "      <td>2959</td>\n",
       "      <td>5</td>\n",
       "    </tr>\n",
       "    <tr>\n",
       "      <th>4</th>\n",
       "      <td>69</td>\n",
       "      <td>a</td>\n",
       "      <td>Buy</td>\n",
       "      <td>397</td>\n",
       "      <td>True</td>\n",
       "      <td>E</td>\n",
       "      <td>2064</td>\n",
       "      <td>19.234496</td>\n",
       "      <td>2959</td>\n",
       "      <td>5</td>\n",
       "    </tr>\n",
       "    <tr>\n",
       "      <th>1</th>\n",
       "      <td>74</td>\n",
       "      <td>a</td>\n",
       "      <td>Buy</td>\n",
       "      <td>502</td>\n",
       "      <td>True</td>\n",
       "      <td>B</td>\n",
       "      <td>2742</td>\n",
       "      <td>18.307805</td>\n",
       "      <td>2959</td>\n",
       "      <td>5</td>\n",
       "    </tr>\n",
       "    <tr>\n",
       "      <th>5</th>\n",
       "      <td>61</td>\n",
       "      <td>input</td>\n",
       "      <td>Read more</td>\n",
       "      <td>508</td>\n",
       "      <td>True</td>\n",
       "      <td>A</td>\n",
       "      <td>10283</td>\n",
       "      <td>4.940193</td>\n",
       "      <td>1877</td>\n",
       "      <td>5</td>\n",
       "    </tr>\n",
       "    <tr>\n",
       "      <th>6</th>\n",
       "      <td>66</td>\n",
       "      <td>input</td>\n",
       "      <td>Read more</td>\n",
       "      <td>357</td>\n",
       "      <td>True</td>\n",
       "      <td>B</td>\n",
       "      <td>2742</td>\n",
       "      <td>13.019694</td>\n",
       "      <td>1877</td>\n",
       "      <td>5</td>\n",
       "    </tr>\n",
       "    <tr>\n",
       "      <th>7</th>\n",
       "      <td>61</td>\n",
       "      <td>input</td>\n",
       "      <td>Read more</td>\n",
       "      <td>325</td>\n",
       "      <td>True</td>\n",
       "      <td>C</td>\n",
       "      <td>2747</td>\n",
       "      <td>11.831088</td>\n",
       "      <td>1877</td>\n",
       "      <td>5</td>\n",
       "    </tr>\n",
       "    <tr>\n",
       "      <th>8</th>\n",
       "      <td>66</td>\n",
       "      <td>input</td>\n",
       "      <td>Read more</td>\n",
       "      <td>364</td>\n",
       "      <td>True</td>\n",
       "      <td>D</td>\n",
       "      <td>3180</td>\n",
       "      <td>11.446541</td>\n",
       "      <td>1877</td>\n",
       "      <td>5</td>\n",
       "    </tr>\n",
       "    <tr>\n",
       "      <th>9</th>\n",
       "      <td>61</td>\n",
       "      <td>input</td>\n",
       "      <td>Read more</td>\n",
       "      <td>323</td>\n",
       "      <td>True</td>\n",
       "      <td>E</td>\n",
       "      <td>2064</td>\n",
       "      <td>15.649225</td>\n",
       "      <td>1877</td>\n",
       "      <td>5</td>\n",
       "    </tr>\n",
       "    <tr>\n",
       "      <th>15</th>\n",
       "      <td>98</td>\n",
       "      <td>a</td>\n",
       "      <td>Explore</td>\n",
       "      <td>102</td>\n",
       "      <td>True</td>\n",
       "      <td>A</td>\n",
       "      <td>10283</td>\n",
       "      <td>0.991928</td>\n",
       "      <td>401</td>\n",
       "      <td>5</td>\n",
       "    </tr>\n",
       "    <tr>\n",
       "      <th>19</th>\n",
       "      <td>98</td>\n",
       "      <td>a</td>\n",
       "      <td>Explore</td>\n",
       "      <td>81</td>\n",
       "      <td>True</td>\n",
       "      <td>E</td>\n",
       "      <td>2064</td>\n",
       "      <td>3.924419</td>\n",
       "      <td>401</td>\n",
       "      <td>5</td>\n",
       "    </tr>\n",
       "    <tr>\n",
       "      <th>18</th>\n",
       "      <td>103</td>\n",
       "      <td>a</td>\n",
       "      <td>Explore</td>\n",
       "      <td>68</td>\n",
       "      <td>True</td>\n",
       "      <td>D</td>\n",
       "      <td>3180</td>\n",
       "      <td>2.138365</td>\n",
       "      <td>401</td>\n",
       "      <td>5</td>\n",
       "    </tr>\n",
       "    <tr>\n",
       "      <th>16</th>\n",
       "      <td>103</td>\n",
       "      <td>a</td>\n",
       "      <td>Explore</td>\n",
       "      <td>74</td>\n",
       "      <td>True</td>\n",
       "      <td>B</td>\n",
       "      <td>2742</td>\n",
       "      <td>2.698760</td>\n",
       "      <td>401</td>\n",
       "      <td>5</td>\n",
       "    </tr>\n",
       "    <tr>\n",
       "      <th>17</th>\n",
       "      <td>98</td>\n",
       "      <td>a</td>\n",
       "      <td>Explore</td>\n",
       "      <td>76</td>\n",
       "      <td>True</td>\n",
       "      <td>C</td>\n",
       "      <td>2747</td>\n",
       "      <td>2.766655</td>\n",
       "      <td>401</td>\n",
       "      <td>5</td>\n",
       "    </tr>\n",
       "  </tbody>\n",
       "</table>\n",
       "</div>"
      ],
      "text/plain": [
       "    Element ID Tag name       Name  No. clicks  Visible? sample_ID  visits  \\\n",
       "0           69        a        Buy         842      True         A   10283   \n",
       "2           69        a        Buy         587      True         C    2747   \n",
       "3           74        a        Buy         631      True         D    3180   \n",
       "4           69        a        Buy         397      True         E    2064   \n",
       "1           74        a        Buy         502      True         B    2742   \n",
       "5           61    input  Read more         508      True         A   10283   \n",
       "6           66    input  Read more         357      True         B    2742   \n",
       "7           61    input  Read more         325      True         C    2747   \n",
       "8           66    input  Read more         364      True         D    3180   \n",
       "9           61    input  Read more         323      True         E    2064   \n",
       "15          98        a    Explore         102      True         A   10283   \n",
       "19          98        a    Explore          81      True         E    2064   \n",
       "18         103        a    Explore          68      True         D    3180   \n",
       "16         103        a    Explore          74      True         B    2742   \n",
       "17          98        a    Explore          76      True         C    2747   \n",
       "\n",
       "    conversion_rate  Total No. Clicks  count  \n",
       "0          8.188272              2959      5  \n",
       "2         21.368766              2959      5  \n",
       "3         19.842767              2959      5  \n",
       "4         19.234496              2959      5  \n",
       "1         18.307805              2959      5  \n",
       "5          4.940193              1877      5  \n",
       "6         13.019694              1877      5  \n",
       "7         11.831088              1877      5  \n",
       "8         11.446541              1877      5  \n",
       "9         15.649225              1877      5  \n",
       "15         0.991928               401      5  \n",
       "19         3.924419               401      5  \n",
       "18         2.138365               401      5  \n",
       "16         2.698760               401      5  \n",
       "17         2.766655               401      5  "
      ]
     },
     "execution_count": 5,
     "metadata": {},
     "output_type": "execute_result"
    }
   ],
   "source": [
    "#First I need to figure out which elements are present in all pages, for that, I'm grouping the dataframe by Name\n",
    "#and counting the number of elements. After that, only elements where count equals to 5 will be analyzed. I'm doing\n",
    "#that because I want to make sure that the element exists in all different pages.\n",
    "\n",
    "#Group by 'Name' and count\n",
    "all_pages = df_master.groupby('Name').count()['No. clicks'].reset_index()\n",
    "all_pages.columns = ['Name','count']\n",
    "all_pages = all_pages[all_pages['count'] == 5]\n",
    "\n",
    "#In order to figure out the top 3 clicked elements, I'm summing the number of clicks by Name of all websites combined.\n",
    "total_clicks = df_master.groupby('Name').sum()['No. clicks'].reset_index()\n",
    "total_clicks.columns = ['Name', 'Total No. Clicks']\n",
    "\n",
    "#Next step is to merge my dataframe (df_master) with these two (all_pages and total_clicks), see the result below\n",
    "df_top3 = pd.merge(df_master, total_clicks, on='Name', how='left')\n",
    "df_top3 = pd.merge(df_top3, all_pages, on='Name', how='right')\n",
    "df_top3.sort_values('Total No. Clicks', ascending=False).head(15) #keep only top 3 elements, 3 x 5 websites = 15 rows"
   ]
  },
  {
   "cell_type": "markdown",
   "metadata": {},
   "source": [
    "So our top 3 elements are the following:\n",
    "   1. Buy\n",
    "   2. Read more\n",
    "   3. Explore\n",
    "\n",
    "Now I'm going to plot the Conversion Rate of these elements, so we can see if there's a difference between the websites."
   ]
  },
  {
   "cell_type": "code",
   "execution_count": 6,
   "metadata": {},
   "outputs": [
    {
     "data": {
      "image/png": "[encoded data removed]",
      "text/plain": [
       "<Figure size 504x360 with 1 Axes>"
      ]
     },
     "metadata": {
      "needs_background": "light"
     },
     "output_type": "display_data"
    },
    {
     "data": {
      "image/png": "[encoded data removed]",
      "text/plain": [
       "<Figure size 504x360 with 1 Axes>"
      ]
     },
     "metadata": {
      "needs_background": "light"
     },
     "output_type": "display_data"
    },
    {
     "data": {
      "image/png": "[encoded data removed]",
      "text/plain": [
       "<Figure size 504x360 with 1 Axes>"
      ]
     },
     "metadata": {
      "needs_background": "light"
     },
     "output_type": "display_data"
    }
   ],
   "source": [
    "#Create list of Top 3 elements\n",
    "top_3 = list(df_top3.sort_values('Total No. Clicks', ascending=False)['Name'].reset_index(drop=True).drop_duplicates()[:3])\n",
    "\n",
    "#loop through elements and plot below\n",
    "for idx, element in enumerate(top_3):\n",
    "    #create temporary dataframes\n",
    "    to_plot = df_top3[df_top3['Name'] == element][['sample_ID','conversion_rate']]\n",
    "    to_plot.sort_values('sample_ID', inplace=True)\n",
    "    \n",
    "    #define my Y and X\n",
    "    height = to_plot['conversion_rate']\n",
    "    bars = to_plot['sample_ID']\n",
    "    y_pos = np.arange(len(bars))\n",
    "    \n",
    "    #plot!!\n",
    "    plt.figure(figsize=(7,5))\n",
    "    plt.bar(y_pos, height, color=['r','g','y','b','w'])\n",
    "    plt.gca().set_yticklabels(['{:.1f}%'.format(x) for x in plt.gca().get_yticks()]) #format of y axis\n",
    "    plt.xticks(y_pos, bars)\n",
    "    plt.title(element + ' - Top ' + str(idx+1) + ' element conversion rate by website')\n",
    "    plt.show()"
   ]
  },
  {
   "cell_type": "markdown",
   "metadata": {},
   "source": [
    "It's interesting to see how the conversion rate differs depending on the website and element.\n",
    "\n",
    "Here are some conclusions:\n",
    "   - Website A seems to be the worst, with the lowest conversion rates in all 3 elements. \n",
    "   - Another interesting point is the similarity between B, C and D.\n",
    "   - Website E is probably the best one, it has the best numbers on the second and third most clicked elements.\n",
    "\n",
    "However, I think it's too soon to say that E is the best option. Some could say that the difference of 21.36% conversion rate in C to 19.23% in E on element 'Buy' is small, but we need to confirm if that's statiscally relevant, so the next step is to perform a Hypothesis Test:"
   ]
  },
  {
   "cell_type": "markdown",
   "metadata": {},
   "source": [
    "### Hypothesis Testing:\n",
    "- H0: Conversion Rate of C is equal to Convertion Rate of E\n",
    "- H1: Conversion Rate of C is different than Convertion Rate of E\n",
    "\n",
    "Through Hypothesis Testing we can confirm whether the difference was randomly generated or not. The idea is that if we can reject the Null Hypothesis (H0), then the difference in conversion rate is relevant and so we cannot say that website E is the best option for element 'Buy'.\n",
    "\n",
    "First, let's start by calculating the null_rate, which is the conversion rate of 'Buy' in website C, in other words, the probability of 'Buy' being clicked in website C."
   ]
  },
  {
   "cell_type": "code",
   "execution_count": 7,
   "metadata": {},
   "outputs": [
    {
     "name": "stdout",
     "output_type": "stream",
     "text": [
      "The Null Rate is: 0.21368765926465236\n"
     ]
    }
   ],
   "source": [
    "null_rate = df_master[(df_master['sample_ID'] ==  'C') & (df_master['Name'] == 'Buy')]['conversion_rate'].values[0]/100\n",
    "print('The Null Rate is: ' + str(null_rate))"
   ]
  },
  {
   "cell_type": "markdown",
   "metadata": {},
   "source": [
    "We also need the probability in E and I'm going to also instantiate C probability in a different variable (C_prob)."
   ]
  },
  {
   "cell_type": "code",
   "execution_count": 8,
   "metadata": {},
   "outputs": [
    {
     "name": "stdout",
     "output_type": "stream",
     "text": [
      "C Conversion Rate is: 0.21368765926465236\n",
      "E Conversion Rate is: 0.1923449612403101\n"
     ]
    }
   ],
   "source": [
    "C_prob = df_master[(df_master['sample_ID'] ==  'C') & (df_master['Name'] == 'Buy')]['conversion_rate'].values[0]/100\n",
    "E_prob = df_master[(df_master['sample_ID'] ==  'E') & (df_master['Name'] == 'Buy')]['conversion_rate'].values[0]/100\n",
    "print('C Conversion Rate is: ' + str(C_prob))\n",
    "print('E Conversion Rate is: ' + str(E_prob))"
   ]
  },
  {
   "cell_type": "markdown",
   "metadata": {},
   "source": [
    "By the way, you'll notice that C_prob and null_rate are the same, that's because the null hypothesis is testing whether C_prob = E_prob."
   ]
  },
  {
   "cell_type": "markdown",
   "metadata": {},
   "source": [
    "Now, in order to run our simulation, we need to know the total number of visits in each website."
   ]
  },
  {
   "cell_type": "code",
   "execution_count": 9,
   "metadata": {},
   "outputs": [
    {
     "name": "stdout",
     "output_type": "stream",
     "text": [
      "The total number of visits in website C was 2747\n",
      "The total number of visits in website E was 2064\n"
     ]
    }
   ],
   "source": [
    "n_C = df_master[(df_master['sample_ID'] ==  'C') & (df_master['Name'] == 'Buy')]['visits'].values[0]\n",
    "n_E = df_master[(df_master['sample_ID'] ==  'E') & (df_master['Name'] == 'Buy')]['visits'].values[0]\n",
    "print('The total number of visits in website C was ' + str(n_C))\n",
    "print('The total number of visits in website E was ' + str(n_E))"
   ]
  },
  {
   "cell_type": "markdown",
   "metadata": {},
   "source": [
    "#### Now it's time to simulate converted clicks:\n",
    "Simulate n_E visits on page E using the null_rate "
   ]
  },
  {
   "cell_type": "code",
   "execution_count": 10,
   "metadata": {},
   "outputs": [
    {
     "data": {
      "text/plain": [
       "array([0, 0, 0, ..., 0, 0, 0])"
      ]
     },
     "execution_count": 10,
     "metadata": {},
     "output_type": "execute_result"
    }
   ],
   "source": [
    "#The clicks will be simulated using a random choice between 0 and 1, n_E times with a probability of null_rate for\n",
    "#click and (1-null_rate) for no click.\n",
    "E_page_converted = np.random.choice(2,n_E,p=[(1-null_rate),null_rate])\n",
    "E_page_converted"
   ]
  },
  {
   "cell_type": "markdown",
   "metadata": {},
   "source": [
    "Simulate n_C visits on page C using the null_rate"
   ]
  },
  {
   "cell_type": "code",
   "execution_count": 11,
   "metadata": {},
   "outputs": [
    {
     "data": {
      "text/plain": [
       "array([1, 0, 0, ..., 0, 0, 0])"
      ]
     },
     "execution_count": 11,
     "metadata": {},
     "output_type": "execute_result"
    }
   ],
   "source": [
    "C_page_converted = np.random.choice(2,n_C,p=[(1-null_rate),null_rate])\n",
    "C_page_converted"
   ]
  },
  {
   "cell_type": "markdown",
   "metadata": {},
   "source": [
    "Difference between conversion rates of E and C from simulations"
   ]
  },
  {
   "cell_type": "code",
   "execution_count": 12,
   "metadata": {},
   "outputs": [
    {
     "data": {
      "text/plain": [
       "0.0026385373190767614"
      ]
     },
     "execution_count": 12,
     "metadata": {},
     "output_type": "execute_result"
    }
   ],
   "source": [
    "E_page_converted.sum() / n_E - C_page_converted.sum() / n_C"
   ]
  },
  {
   "cell_type": "markdown",
   "metadata": {},
   "source": [
    "Do 10,000 times the same simulation and store probability differences"
   ]
  },
  {
   "cell_type": "code",
   "execution_count": 13,
   "metadata": {
    "collapsed": true
   },
   "outputs": [],
   "source": [
    "p_diffs = []\n",
    "\n",
    "for _ in range (10000):\n",
    "    bootstrap_E = np.random.choice(2,n_E,p=[(1-null_rate),null_rate])\n",
    "    bootstrap_C = np.random.choice(2,n_C,p=[(1-null_rate),null_rate])\n",
    "    p_E = bootstrap_E.sum() / n_E\n",
    "    p_C = bootstrap_C.sum() / n_C\n",
    "    p_diffs.append(p_E - p_C)"
   ]
  },
  {
   "cell_type": "markdown",
   "metadata": {},
   "source": [
    "Let's plot that and compare it with the observation difference we've got from the original dataset (obs_diff)."
   ]
  },
  {
   "cell_type": "code",
   "execution_count": 14,
   "metadata": {},
   "outputs": [
    {
     "data": {
      "image/png": "[encoded data removed]",
      "text/plain": [
       "<Figure size 432x288 with 1 Axes>"
      ]
     },
     "metadata": {
      "needs_background": "light"
     },
     "output_type": "display_data"
    }
   ],
   "source": [
    "#convert to an array\n",
    "p_diffs = np.array(p_diffs) \n",
    "\n",
    "#plot\n",
    "plt.hist(p_diffs)\n",
    "obs_diff = E_prob-C_prob\n",
    "plt.axvline(x = obs_diff,color='blue');"
   ]
  },
  {
   "cell_type": "markdown",
   "metadata": {},
   "source": [
    "Now we need to calculate the p-value, which is the probability of having the obs_diff or less in our simulations."
   ]
  },
  {
   "cell_type": "code",
   "execution_count": 15,
   "metadata": {},
   "outputs": [
    {
     "name": "stdout",
     "output_type": "stream",
     "text": [
      "The p-value is: 0.03739999999999999\n"
     ]
    }
   ],
   "source": [
    "#Calculating p-value\n",
    "pval = 1 - (p_diffs > obs_diff).mean()\n",
    "print('The p-value is: ' + str(pval))"
   ]
  },
  {
   "cell_type": "markdown",
   "metadata": {},
   "source": [
    "At a Type I error rate of 5%, p-value is lower than alpha, therefore we can reject the Null hypothesis and affirm that Page C has higher or equal conversion rate than Page E.\n",
    "\n",
    "Which means that there's definitely something more about the 'Buy' element in Page C. Based on this analysis, I'd first try to understand if there are really any differences between the element in both pages, but most likely is a combination of all the elements on the page."
   ]
  },
  {
   "cell_type": "markdown",
   "metadata": {},
   "source": [
    "### Regression Analysis:\n",
    "\n",
    "We can do the same type of analysis through Regression, so this is what we're going to do next.\n",
    "\n",
    "On this case, I'll be using the Logit model from statsmodels.\n",
    "\n",
    "The first step is to try the model and for that I'm going back to the dataframes we created earlier. "
   ]
  },
  {
   "cell_type": "code",
   "execution_count": 16,
   "metadata": {},
   "outputs": [
    {
     "data": {
      "text/html": [
       "<div>\n",
       "<style scoped>\n",
       "    .dataframe tbody tr th:only-of-type {\n",
       "        vertical-align: middle;\n",
       "    }\n",
       "\n",
       "    .dataframe tbody tr th {\n",
       "        vertical-align: top;\n",
       "    }\n",
       "\n",
       "    .dataframe thead th {\n",
       "        text-align: right;\n",
       "    }\n",
       "</style>\n",
       "<table border=\"1\" class=\"dataframe\">\n",
       "  <thead>\n",
       "    <tr style=\"text-align: right;\">\n",
       "      <th></th>\n",
       "      <th>E_page</th>\n",
       "      <th>converted</th>\n",
       "      <th>interpret</th>\n",
       "    </tr>\n",
       "  </thead>\n",
       "  <tbody>\n",
       "    <tr>\n",
       "      <th>0</th>\n",
       "      <td>1.0</td>\n",
       "      <td>0</td>\n",
       "      <td>1</td>\n",
       "    </tr>\n",
       "    <tr>\n",
       "      <th>1</th>\n",
       "      <td>1.0</td>\n",
       "      <td>0</td>\n",
       "      <td>1</td>\n",
       "    </tr>\n",
       "    <tr>\n",
       "      <th>2</th>\n",
       "      <td>1.0</td>\n",
       "      <td>0</td>\n",
       "      <td>1</td>\n",
       "    </tr>\n",
       "    <tr>\n",
       "      <th>3</th>\n",
       "      <td>1.0</td>\n",
       "      <td>0</td>\n",
       "      <td>1</td>\n",
       "    </tr>\n",
       "    <tr>\n",
       "      <th>4</th>\n",
       "      <td>1.0</td>\n",
       "      <td>0</td>\n",
       "      <td>1</td>\n",
       "    </tr>\n",
       "  </tbody>\n",
       "</table>\n",
       "</div>"
      ],
      "text/plain": [
       "   E_page  converted  interpret\n",
       "0     1.0          0          1\n",
       "1     1.0          0          1\n",
       "2     1.0          0          1\n",
       "3     1.0          0          1\n",
       "4     1.0          0          1"
      ]
     },
     "execution_count": 16,
     "metadata": {},
     "output_type": "execute_result"
    }
   ],
   "source": [
    "#Create df_E and df_C dataframes and create an interpret column to train the model, this column will be the intercept\n",
    "#on the linear equation.\n",
    "df_E = pd.DataFrame(E_page_converted, columns=['converted'])\n",
    "df_E['E_page'] = 1 #1 == it's Page E\n",
    "df_C = pd.DataFrame(C_page_converted, columns=['converted'])\n",
    "\n",
    "#Concatenate both dataframes\n",
    "df = pd.concat([df_E,df_C], sort=True)\n",
    "df.fillna(0, inplace=True)\n",
    "\n",
    "#Create an interpret column, we need this to calculate the intercept of the model.\n",
    "df['interpret'] = 1\n",
    "df.head()"
   ]
  },
  {
   "cell_type": "code",
   "execution_count": 17,
   "metadata": {},
   "outputs": [
    {
     "name": "stdout",
     "output_type": "stream",
     "text": [
      "Optimization terminated successfully.\n",
      "         Current function value: 0.521210\n",
      "         Iterations 5\n"
     ]
    },
    {
     "data": {
      "text/html": [
       "<table class=\"simpletable\">\n",
       "<caption>Logit Regression Results</caption>\n",
       "<tr>\n",
       "  <th>Dep. Variable:</th>     <td>converted</td>    <th>  No. Observations:  </th>  <td>  4811</td>  \n",
       "</tr>\n",
       "<tr>\n",
       "  <th>Model:</th>               <td>Logit</td>      <th>  Df Residuals:      </th>  <td>  4809</td>  \n",
       "</tr>\n",
       "<tr>\n",
       "  <th>Method:</th>               <td>MLE</td>       <th>  Df Model:          </th>  <td>     1</td>  \n",
       "</tr>\n",
       "<tr>\n",
       "  <th>Date:</th>          <td>Fri, 03 May 2019</td> <th>  Pseudo R-squ.:     </th> <td>9.671e-06</td>\n",
       "</tr>\n",
       "<tr>\n",
       "  <th>Time:</th>              <td>12:43:22</td>     <th>  Log-Likelihood:    </th> <td> -2507.5</td> \n",
       "</tr>\n",
       "<tr>\n",
       "  <th>converged:</th>           <td>True</td>       <th>  LL-Null:           </th> <td> -2507.6</td> \n",
       "</tr>\n",
       "<tr>\n",
       "  <th> </th>                      <td> </td>        <th>  LLR p-value:       </th>  <td>0.8257</td>  \n",
       "</tr>\n",
       "</table>\n",
       "<table class=\"simpletable\">\n",
       "<tr>\n",
       "      <td></td>         <th>coef</th>     <th>std err</th>      <th>z</th>      <th>P>|z|</th>  <th>[0.025</th>    <th>0.975]</th>  \n",
       "</tr>\n",
       "<tr>\n",
       "  <th>E_page</th>    <td>    0.0156</td> <td>    0.071</td> <td>    0.220</td> <td> 0.826</td> <td>   -0.123</td> <td>    0.154</td>\n",
       "</tr>\n",
       "<tr>\n",
       "  <th>interpret</th> <td>   -1.2985</td> <td>    0.046</td> <td>  -27.932</td> <td> 0.000</td> <td>   -1.390</td> <td>   -1.207</td>\n",
       "</tr>\n",
       "</table>"
      ],
      "text/plain": [
       "<class 'statsmodels.iolib.summary.Summary'>\n",
       "\"\"\"\n",
       "                           Logit Regression Results                           \n",
       "==============================================================================\n",
       "Dep. Variable:              converted   No. Observations:                 4811\n",
       "Model:                          Logit   Df Residuals:                     4809\n",
       "Method:                           MLE   Df Model:                            1\n",
       "Date:                Fri, 03 May 2019   Pseudo R-squ.:               9.671e-06\n",
       "Time:                        12:43:22   Log-Likelihood:                -2507.5\n",
       "converged:                       True   LL-Null:                       -2507.6\n",
       "                                        LLR p-value:                    0.8257\n",
       "==============================================================================\n",
       "                 coef    std err          z      P>|z|      [0.025      0.975]\n",
       "------------------------------------------------------------------------------\n",
       "E_page         0.0156      0.071      0.220      0.826      -0.123       0.154\n",
       "interpret     -1.2985      0.046    -27.932      0.000      -1.390      -1.207\n",
       "==============================================================================\n",
       "\"\"\""
      ]
     },
     "execution_count": 17,
     "metadata": {},
     "output_type": "execute_result"
    }
   ],
   "source": [
    "#Instantiate the model and train it\n",
    "log_mod = Logit(df['converted'],df[['E_page','interpret']])\n",
    "result = log_mod.fit()\n",
    "\n",
    "#Summary of results\n",
    "result.summary()"
   ]
  },
  {
   "cell_type": "markdown",
   "metadata": {},
   "source": [
    "Since it's a regression analysis, the way we read the p-value is different, basically we have p-values for all components of our equation, on this case, we have two (E_page and interpret), and the null hypothesis is that the component has no effect on the calculation of Y (or total number of clicks for us). Therefore, if p-value is less than 5% it means that the we should keep the component in our equation, otherwise, it should be removed.\n",
    "\n",
    "Therefore, based on the report above, E_page has a p-value of 0.826, which means that we can reject the null hypothesis and Page E is not a good way to predict the number of clicks.\n",
    "\n",
    "However, I think we should run some simulations on this analysis, but this time I'll be using the Linear Regression model from sklearn."
   ]
  },
  {
   "cell_type": "markdown",
   "metadata": {},
   "source": [
    "### Regression with simulations:"
   ]
  },
  {
   "cell_type": "code",
   "execution_count": 18,
   "metadata": {},
   "outputs": [],
   "source": [
    "#creating an empty list to store p-values\n",
    "p_values = []\n",
    "\n",
    "#running 10,000 simulations.\n",
    "for _ in range(10000):\n",
    "    #Run simulation\n",
    "    E_page_converted = np.random.choice(2,n_E,p=[(1-null_rate),null_rate])\n",
    "    C_page_converted = np.random.choice(2,n_C,p=[(1-null_rate),null_rate])\n",
    "    \n",
    "    #Create df_E and df_C dataframes and create an interpret column to train the model \n",
    "    df_E = pd.DataFrame(E_page_converted, columns=['converted'])\n",
    "    df_E['E_page'] = 1 #1 == it's Page E\n",
    "    df_C = pd.DataFrame(C_page_converted, columns=['converted'])\n",
    "\n",
    "    #Concatenate both dataframes and create x and y\n",
    "    df = pd.concat([df_E,df_C], sort=True)\n",
    "    df.fillna(0, inplace=True)\n",
    "    x = np.array(df['E_page']).reshape(-1, 1)\n",
    "    y = np.array(df['converted']).reshape(-1, 1)\n",
    "\n",
    "    #Instantiate the model and fit it\n",
    "    lr_mod = LinearRegression()\n",
    "    lr_mod.fit(x,y)\n",
    "    \n",
    "    #Get the p-value from the model and append to our list\n",
    "    p_value = stats.coef_pval(lr_mod, x, y)[1]\n",
    "    p_values.append(p_value)"
   ]
  },
  {
   "cell_type": "code",
   "execution_count": 19,
   "metadata": {},
   "outputs": [
    {
     "data": {
      "text/plain": [
       "0.4859609177518292"
      ]
     },
     "execution_count": 19,
     "metadata": {},
     "output_type": "execute_result"
    }
   ],
   "source": [
    "#Calculate average p-value from simulations\n",
    "p_values = np.array(p_values)\n",
    "p_values.mean()"
   ]
  },
  {
   "cell_type": "markdown",
   "metadata": {},
   "source": [
    "Here we got the same result, p-value > 5%, therefore, we can reject the null hypothesis and confirm that Page C is better than E in number of clicks of 'Buy'."
   ]
  },
  {
   "cell_type": "markdown",
   "metadata": {},
   "source": [
    "### Conclusion\n",
    "\n",
    "If the goal is to increase number of Buys, or number of times that the 'Buy' element was clicked, and we're between Pages C and E, we can confirm that C is the best option, even though, E had more clicks in other elements."
   ]
  }
 ],
 "metadata": {
  "kernelspec": {
   "display_name": "Python 3",
   "language": "python",
   "name": "python3"
  },
  "language_info": {
   "codemirror_mode": {
    "name": "ipython",
    "version": 3
   },
   "file_extension": ".py",
   "mimetype": "text/x-python",
   "name": "python",
   "nbconvert_exporter": "python",
   "pygments_lexer": "ipython3",
   "version": "3.6.5"
  }
 },
 "nbformat": 4,
 "nbformat_minor": 2
}
